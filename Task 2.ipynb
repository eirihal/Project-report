FR = 0.005 # Failure rate
RR = 0.125 # Repair rate
MDPD = 0 # Mean downtime per day
Fixed = False

i = 8 # Workhours per day

while i > 0:
 MDPD = MDPD + (8-i)*FR*(1-e**(-RR*(i-1))) # Sum up probability that machine breaks in current hour and is not fixed remainder of the day
 
 # Check probability that machine breaks in hour j and is fixed in hour j+k until the end of the day. Then Fixed turns true and time jumps to j+k, and start over.
